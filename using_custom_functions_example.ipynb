{
 "cells": [
  {
   "cell_type": "markdown",
   "id": "135eabe1",
   "metadata": {},
   "source": [
    "# Using Custom Functions from .py Files in Jupyter Notebooks\n",
    "\n",
    "This notebook demonstrates how to import and use custom functions from Python files that contain Seaborn visualization code. We'll show different methods for importing and using functions from the `utils/data_cleaning_utils.py` file."
   ]
  },
  {
   "cell_type": "markdown",
   "id": "249b81c8",
   "metadata": {},
   "source": [
    "## 1. Import Required Libraries\n",
    "\n",
    "First, import all the standard libraries needed for data analysis and visualization."
   ]
  },
  {
   "cell_type": "code",
   "execution_count": null,
   "id": "c6119e55",
   "metadata": {},
   "outputs": [],
   "source": [
    "import pandas as pd\n",
    "import numpy as np\n",
    "import matplotlib.pyplot as plt\n",
    "import seaborn as sns\n",
    "import sys\n",
    "import os\n",
    "\n",
    "# Set up matplotlib and seaborn styling\n",
    "plt.style.use('default')\n",
    "sns.set_palette(\"husl\")\n",
    "%matplotlib inline"
   ]
  },
  {
   "cell_type": "markdown",
   "id": "cbb57319",
   "metadata": {},
   "source": [
    "## 2. Import Custom Module\n",
    "\n",
    "There are several ways to import functions from a .py file. Here are the most common methods:"
   ]
  },
  {
   "cell_type": "code",
   "execution_count": null,
   "id": "ad0a4232",
   "metadata": {},
   "outputs": [],
   "source": [
    "# Method 1: Import the entire module\n",
    "from utils import data_cleaning_utils\n",
    "\n",
    "# Method 2: Import specific functions\n",
    "from utils.data_cleaning_utils import analyze_missing_data, safe_drop_columns\n",
    "\n",
    "# Method 3: Import with alias\n",
    "import utils.data_cleaning_utils as dcu\n",
    "\n",
    "# Method 4: Add the utils directory to Python path (if needed)\n",
    "# sys.path.append('utils')\n",
    "# import data_cleaning_utils\n",
    "\n",
    "print(\"Custom module imported successfully!\")\n",
    "print(\"Available functions:\", [func for func in dir(data_cleaning_utils) if not func.startswith('_')])"
   ]
  },
  {
   "cell_type": "markdown",
   "id": "0f15ff86",
   "metadata": {},
   "source": [
    "## 3. Load Sample Dataset\n",
    "\n",
    "Load the coupons dataset to demonstrate how to use the custom functions."
   ]
  },
  {
   "cell_type": "code",
   "execution_count": null,
   "id": "8d056050",
   "metadata": {},
   "outputs": [],
   "source": [
    "# Load the coupons dataset\n",
    "data = pd.read_csv('data/coupons.csv')\n",
    "\n",
    "print(f\"Dataset shape: {data.shape}\")\n",
    "print(f\"Columns: {list(data.columns)}\")\n",
    "print(\"\\nFirst few rows:\")\n",
    "data.head()"
   ]
  },
  {
   "cell_type": "markdown",
   "id": "47095fb5",
   "metadata": {},
   "source": [
    "## 4. Use Custom Function for Data Analysis\n",
    "\n",
    "Now let's use the `analyze_missing_data()` function from our custom module. This function analyzes missing data patterns in the dataset."
   ]
  },
  {
   "cell_type": "code",
   "execution_count": null,
   "id": "393eea56",
   "metadata": {},
   "outputs": [],
   "source": [
    "# Method 1: Using the imported function directly\n",
    "missing_stats = analyze_missing_data(data)\n",
    "\n",
    "print(\"\\n\" + \"=\"*50)\n",
    "print(\"FUNCTION OUTPUT STORED FOR FURTHER USE\")\n",
    "print(\"=\"*50)"
   ]
  },
  {
   "cell_type": "markdown",
   "id": "35f0f575",
   "metadata": {},
   "source": [
    "## 5. Create Visualizations with Seaborn\n",
    "\n",
    "Now let's use Seaborn to visualize the missing data analysis results from our custom function."
   ]
  },
  {
   "cell_type": "code",
   "execution_count": null,
   "id": "2ff1f660",
   "metadata": {},
   "outputs": [],
   "source": [
    "# Create visualizations using the output from our custom function\n",
    "fig, axes = plt.subplots(2, 2, figsize=(15, 12))\n",
    "\n",
    "# 1. Missing data heatmap\n",
    "plt.subplot(2, 2, 1)\n",
    "# Create a boolean mask for missing values\n",
    "missing_mask = data.isnull()\n",
    "sns.heatmap(missing_mask, cbar=True, cmap='viridis', yticklabels=False)\n",
    "plt.title('Missing Data Heatmap\\n(Dark = Missing, Light = Present)')\n",
    "plt.xlabel('Columns')\n",
    "\n",
    "# 2. Missing data by column (bar plot)\n",
    "plt.subplot(2, 2, 2)\n",
    "missing_counts = pd.Series(missing_stats['missing_by_column'])\n",
    "missing_counts = missing_counts[missing_counts > 0]  # Only show columns with missing data\n",
    "if len(missing_counts) > 0:\n",
    "    sns.barplot(x=missing_counts.values, y=missing_counts.index, palette='viridis')\n",
    "    plt.title('Missing Data Count by Column')\n",
    "    plt.xlabel('Number of Missing Values')\n",
    "else:\n",
    "    plt.text(0.5, 0.5, 'No Missing Data Found', ha='center', va='center', transform=plt.gca().transAxes)\n",
    "    plt.title('Missing Data Count by Column')\n",
    "\n",
    "# 3. Missing data percentage by column\n",
    "plt.subplot(2, 2, 3)\n",
    "missing_pct = pd.Series(missing_stats['missing_by_column_pct'])\n",
    "missing_pct = missing_pct[missing_pct > 0]  # Only show columns with missing data\n",
    "if len(missing_pct) > 0:\n",
    "    sns.barplot(x=missing_pct.values, y=missing_pct.index, palette='plasma')\n",
    "    plt.title('Missing Data Percentage by Column')\n",
    "    plt.xlabel('Percentage of Missing Values')\n",
    "else:\n",
    "    plt.text(0.5, 0.5, 'No Missing Data Found', ha='center', va='center', transform=plt.gca().transAxes)\n",
    "    plt.title('Missing Data Percentage by Column')\n",
    "\n",
    "# 4. Overall missing data summary (pie chart)\n",
    "plt.subplot(2, 2, 4)\n",
    "sizes = [missing_stats['complete_percentage'], missing_stats['missing_percentage']]\n",
    "labels = ['Complete Data', 'Missing Data']\n",
    "colors = ['lightblue', 'lightcoral']\n",
    "plt.pie(sizes, labels=labels, colors=colors, autopct='%1.1f%%', startangle=90)\n",
    "plt.title('Overall Data Completeness')\n",
    "\n",
    "plt.tight_layout()\n",
    "plt.show()"
   ]
  },
  {
   "cell_type": "markdown",
   "id": "cd19d216",
   "metadata": {},
   "source": [
    "## 6. Handle Function Output\n",
    "\n",
    "Demonstrate how to work with the dictionary output from the custom function for further analysis."
   ]
  },
  {
   "cell_type": "code",
   "execution_count": null,
   "id": "023b4e19",
   "metadata": {},
   "outputs": [],
   "source": [
    "# Working with the function output dictionary\n",
    "print(\"Keys in the missing_stats dictionary:\")\n",
    "for key in missing_stats.keys():\n",
    "    print(f\"  - {key}\")\n",
    "\n",
    "print(f\"\\nTotal missing percentage: {missing_stats['missing_percentage']:.2f}%\")\n",
    "print(f\"Complete data percentage: {missing_stats['complete_percentage']:.2f}%\")\n",
    "\n",
    "# Extract specific information\n",
    "columns_with_missing = {k: v for k, v in missing_stats['missing_by_column'].items() if v > 0}\n",
    "if columns_with_missing:\n",
    "    print(f\"\\nColumns with missing data:\")\n",
    "    for col, count in columns_with_missing.items():\n",
    "        pct = missing_stats['missing_by_column_pct'][col]\n",
    "        print(f\"  - {col}: {count} missing values ({pct:.1f}%)\")\n",
    "else:\n",
    "    print(\"\\nNo missing data found in any columns!\")\n",
    "\n",
    "# Use the output for conditional logic\n",
    "if missing_stats['missing_percentage'] > 5:\n",
    "    print(f\"\\n⚠️  WARNING: Dataset has {missing_stats['missing_percentage']:.1f}% missing data\")\n",
    "    print(\"Consider data cleaning strategies.\")\n",
    "else:\n",
    "    print(f\"\\n✅ Dataset quality is good with only {missing_stats['missing_percentage']:.1f}% missing data\")"
   ]
  },
  {
   "cell_type": "markdown",
   "id": "606befd7",
   "metadata": {},
   "source": [
    "## Additional Tips for Using Custom Functions\n",
    "\n",
    "### Key Points to Remember:\n",
    "\n",
    "1. **Import Methods**: Choose the import method that works best for your use case:\n",
    "   - `from utils import data_cleaning_utils` - Import the entire module\n",
    "   - `from utils.data_cleaning_utils import function_name` - Import specific functions\n",
    "   - `import utils.data_cleaning_utils as alias` - Import with alias\n",
    "\n",
    "2. **Module Reloading**: If you modify your .py file, you may need to reload the module:\n",
    "   ```python\n",
    "   import importlib\n",
    "   importlib.reload(data_cleaning_utils)\n",
    "   ```\n",
    "\n",
    "3. **Path Issues**: If you get import errors, make sure:\n",
    "   - The .py file is in the correct directory\n",
    "   - The directory has an `__init__.py` file (can be empty)\n",
    "   - You're running the notebook from the correct working directory\n",
    "\n",
    "4. **Function Dependencies**: Ensure all required libraries are imported in both:\n",
    "   - The notebook (for interactive use)\n",
    "   - The .py file (for the function to work)\n",
    "\n",
    "5. **Error Handling**: Custom functions should include proper error handling and documentation\n",
    "\n",
    "This approach keeps your notebooks clean while allowing you to reuse complex analysis functions across multiple projects!"
   ]
  }
 ],
 "metadata": {
  "kernelspec": {
   "display_name": "coupon-analysis",
   "language": "python",
   "name": "python3"
  },
  "language_info": {
   "name": "python",
   "version": "3.12.11"
  }
 },
 "nbformat": 4,
 "nbformat_minor": 5
}
